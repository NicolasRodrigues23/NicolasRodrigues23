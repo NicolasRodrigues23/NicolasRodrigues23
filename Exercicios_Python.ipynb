{
  "nbformat": 4,
  "nbformat_minor": 0,
  "metadata": {
    "colab": {
      "provenance": [],
      "authorship_tag": "ABX9TyNp3+buoA2/K2Ej5lRPe5d7",
      "include_colab_link": true
    },
    "kernelspec": {
      "name": "python3",
      "display_name": "Python 3"
    },
    "language_info": {
      "name": "python"
    }
  },
  "cells": [
    {
      "cell_type": "markdown",
      "metadata": {
        "id": "view-in-github",
        "colab_type": "text"
      },
      "source": [
        "<a href=\"https://colab.research.google.com/github/NicolasRodrigues23/NicolasRodrigues23/blob/main/Exercicios_Python.ipynb\" target=\"_parent\"><img src=\"https://colab.research.google.com/assets/colab-badge.svg\" alt=\"Open In Colab\"/></a>"
      ]
    },
    {
      "cell_type": "markdown",
      "source": [
        "#Básico\n"
      ],
      "metadata": {
        "id": "JPWBzxIIV3wI"
      }
    },
    {
      "cell_type": "markdown",
      "source": [
        "##Datas"
      ],
      "metadata": {
        "id": "Z7Sss0Il4GjL"
      }
    },
    {
      "cell_type": "markdown",
      "source": [
        "1. Carregue a data atual do computador e, com base na data atual, apresente a data de dois dias no futuro"
      ],
      "metadata": {
        "id": "PtdpiHHbSMF3"
      }
    },
    {
      "cell_type": "markdown",
      "source": [],
      "metadata": {
        "id": "Ly9DkTf1WP4h"
      }
    },
    {
      "cell_type": "code",
      "execution_count": 5,
      "metadata": {
        "colab": {
          "base_uri": "https://localhost:8080/"
        },
        "id": "nHeFmRX9RZbH",
        "outputId": "47ea9f04-4da1-40b6-fa6d-5088cc65cc65"
      },
      "outputs": [
        {
          "output_type": "stream",
          "name": "stdout",
          "text": [
            "2025-03-12 17:03:33.648024\n",
            "2025-03-14 17:02:28.220599\n"
          ]
        }
      ],
      "source": [
        "import datetime\n",
        "\n",
        "data_atual = datetime.datetime.today()\n",
        "print(data_atual)\n",
        "data_futura = Data_Hoje + datetime.timedelta(2)\n",
        "print(data_futura)"
      ]
    },
    {
      "cell_type": "markdown",
      "source": [
        "2. Carregue a data atual do computador e apresente somente a data"
      ],
      "metadata": {
        "id": "t5Wpy55tUKLq"
      }
    },
    {
      "cell_type": "code",
      "source": [
        "data_atual = datetime.datetime.today().strftime('%d/%m/%y')\n",
        "#data_formatada = data_atual.strftime('%d/%m/%y')\n",
        "#print(data_formatada)\n",
        "print(data_atual)"
      ],
      "metadata": {
        "colab": {
          "base_uri": "https://localhost:8080/"
        },
        "id": "wp5mwvuQUMrK",
        "outputId": "a35e001f-e2ca-4697-eac7-78a35bde64d7"
      },
      "execution_count": 9,
      "outputs": [
        {
          "output_type": "stream",
          "name": "stdout",
          "text": [
            "12/03/25\n"
          ]
        }
      ]
    },
    {
      "cell_type": "markdown",
      "source": [
        "##Dicionários\n",
        "1. Considere o seguinte dicionário: {'m1': {'m2': 'Olá Mundo'}}. Carregue e apresente a mensagem \"Olá Mundo\" contida no dicionário"
      ],
      "metadata": {
        "id": "8td6BSUKWS24"
      }
    },
    {
      "cell_type": "code",
      "source": [
        "mensagem = {'m1': {'m2': 'Olá Mundo'}}\n",
        "print(mensagem['m1']['m2'])"
      ],
      "metadata": {
        "colab": {
          "base_uri": "https://localhost:8080/"
        },
        "id": "P8Gc3J6iWkGS",
        "outputId": "a937d79e-6497-4622-d829-8a0e4b9d0fe4"
      },
      "execution_count": 14,
      "outputs": [
        {
          "output_type": "stream",
          "name": "stdout",
          "text": [
            "Olá Mundo\n"
          ]
        }
      ]
    },
    {
      "cell_type": "markdown",
      "source": [
        "##Funções\n",
        "1. Desenvolva um programa que tenha uma função que verifique se um número inteiro qualquer é par ou impar"
      ],
      "metadata": {
        "id": "7E4hX2xPYU9N"
      }
    },
    {
      "cell_type": "code",
      "source": [
        "def par_impar (num):\n",
        "  if num % 2 == 0:\n",
        "    print('O número é par')\n",
        "  else:\n",
        "    print('O número é impar')\n",
        "\n",
        "num = int(input('Digite um número: '))\n",
        "par_impar(num)"
      ],
      "metadata": {
        "colab": {
          "base_uri": "https://localhost:8080/"
        },
        "id": "mUjvQqOBYZCK",
        "outputId": "7a8b6811-b031-4212-a75c-42e8c82a8175"
      },
      "execution_count": 16,
      "outputs": [
        {
          "output_type": "stream",
          "name": "stdout",
          "text": [
            "Digite um número: 1\n",
            "O número é impar\n"
          ]
        }
      ]
    },
    {
      "cell_type": "markdown",
      "source": [
        "##Listas\n",
        "1. Desenvolva um programa que armazene quatro notas em uma lista e que apresente: a média final, a maior nota e a menor nota"
      ],
      "metadata": {
        "id": "H6s-2nS8ZG9A"
      }
    },
    {
      "cell_type": "code",
      "source": [
        "import statistics\n",
        "notas = []\n",
        "for i in range(4):\n",
        "  nota = float(input('digite a nota: '))\n",
        "  notas.append(nota)\n",
        "\n",
        "media = statistics.mean(notas)\n",
        "\n",
        "print(notas)\n",
        "print(media)"
      ],
      "metadata": {
        "colab": {
          "base_uri": "https://localhost:8080/"
        },
        "id": "Xyv0AFuPZd9L",
        "outputId": "3b33a6d4-7fdb-49dc-dc45-9dba9572b013"
      },
      "execution_count": 18,
      "outputs": [
        {
          "output_type": "stream",
          "name": "stdout",
          "text": [
            "digite a nota: 9.5\n",
            "digite a nota: 8.75\n",
            "digite a nota: 8\n",
            "digite a nota: 10\n",
            "[9.5, 8.75, 8.0, 10.0]\n",
            "9.0625\n"
          ]
        }
      ]
    },
    {
      "cell_type": "markdown",
      "source": [
        "2. Desenvolva um programa que armazene quatro notas em uma lista e que apresente a média final. Caso a média seja igual ou superior a 7, apresentar a mensagem \"APROVADO\", caso contrário, armazenar a nota da prova final e recalcular a média. Caso a nova média seja igual superior a 5, apresentar a mensagem \"APROVADO\", caso contrário, apresentar a mensagem \"REPROVADO\""
      ],
      "metadata": {
        "id": "mqSga_esbDVS"
      }
    },
    {
      "cell_type": "code",
      "source": [
        "import statistics\n",
        "\n",
        "notas = []\n",
        "\n",
        "for i in range(4):\n",
        "  nota = float(input('digite a nota: '))\n",
        "  notas.append(nota)\n",
        "\n",
        "media = statistics.mean(notas)\n",
        "print(media)\n",
        "\n",
        "if media >= 7:\n",
        "  print('APROVADO')\n",
        "else:\n",
        "  prova = float(input('digite a nota da prova final: '))\n",
        "  notas.append(prova)\n",
        "  media = statistics.mean(notas)\n",
        "  print(media)\n",
        "  if media >= 5:\n",
        "    print('APROVADO')\n",
        "  else:\n",
        "    print('REPROVADO')"
      ],
      "metadata": {
        "colab": {
          "base_uri": "https://localhost:8080/"
        },
        "id": "5zX_twtnbIlc",
        "outputId": "ee169fba-8e0b-40d6-eec9-1a71dc5f58c6"
      },
      "execution_count": 24,
      "outputs": [
        {
          "output_type": "stream",
          "name": "stdout",
          "text": [
            "digite a nota: 1\n",
            "digite a nota: 1\n",
            "digite a nota: 1\n",
            "digite a nota: 1\n",
            "1.0\n",
            "digite a nota da prova final: 10\n",
            "2.8\n",
            "REPROVADO\n"
          ]
        }
      ]
    },
    {
      "cell_type": "markdown",
      "source": [
        "##Mensagens\n",
        "1. Desenvolva um programa que apresente na tela a seguinte mensagem: Hello World"
      ],
      "metadata": {
        "id": "CHvFrIAmrKkt"
      }
    },
    {
      "cell_type": "code",
      "source": [
        "print('Hello World')"
      ],
      "metadata": {
        "id": "FulJDyXLrLYP"
      },
      "execution_count": null,
      "outputs": []
    },
    {
      "cell_type": "markdown",
      "source": [
        "2. Desenvolva um programa que pergunte o seu nome e, ao teclar Enter, apresente uma saudação personaliz"
      ],
      "metadata": {
        "id": "fWNL-BzDrqoW"
      }
    },
    {
      "cell_type": "code",
      "source": [
        "nome = input('Digite seu nome: ')\n",
        "print('Olá', nome)"
      ],
      "metadata": {
        "colab": {
          "base_uri": "https://localhost:8080/"
        },
        "id": "oQeJynImrtqb",
        "outputId": "2cf9221a-0c10-4a24-d8bc-1d91de548c63"
      },
      "execution_count": 25,
      "outputs": [
        {
          "output_type": "stream",
          "name": "stdout",
          "text": [
            "Digite seu nome: Nicolas\n",
            "Olá Nicolas\n"
          ]
        }
      ]
    },
    {
      "cell_type": "markdown",
      "source": [
        "## Números\n",
        "1. Desenvolva um programa que leia um número inteiro qualquer e que apresete o número informado, seguido do seu antecessor e do seu sucessor"
      ],
      "metadata": {
        "id": "VJRFutR4sLu-"
      }
    },
    {
      "cell_type": "code",
      "source": [
        "num = int(input('digite um número: '))\n",
        "\n",
        "print('Seu número é:', num)\n",
        "print('O antecessor ao seu número é:', num - 1)\n",
        "print('O sucessor ao seu número é:', num + 1)\n"
      ],
      "metadata": {
        "colab": {
          "base_uri": "https://localhost:8080/"
        },
        "id": "440bCzZCseWe",
        "outputId": "4fc6ccef-ae47-41c3-d2d6-0ec3bda121bf"
      },
      "execution_count": 27,
      "outputs": [
        {
          "output_type": "stream",
          "name": "stdout",
          "text": [
            "digite um número: 10\n",
            "Seu número é: 10\n",
            "O antecessor ao seu número é: 9\n",
            "O sucessor ao seu número é: 11\n"
          ]
        }
      ]
    },
    {
      "cell_type": "markdown",
      "source": [
        "2. Desenvolva um programa que leia um número inteiro qualquer e que apresente o número informado com duas casas decimais"
      ],
      "metadata": {
        "id": "aAOgYrEZuHuq"
      }
    },
    {
      "cell_type": "code",
      "source": [
        "num = int(input('digite um numero inteiro: '))\n",
        "print(f'{num:.2f}')"
      ],
      "metadata": {
        "colab": {
          "base_uri": "https://localhost:8080/"
        },
        "id": "xACfFJBguRw3",
        "outputId": "e49b5ae5-9269-4b34-a928-81efacb85f5a"
      },
      "execution_count": 35,
      "outputs": [
        {
          "output_type": "stream",
          "name": "stdout",
          "text": [
            "digite um numero inteiro: 1\n",
            "1.00\n"
          ]
        }
      ]
    },
    {
      "cell_type": "markdown",
      "source": [
        "3. Desenvolva um programa que leia quatro notas e que apresente a média final"
      ],
      "metadata": {
        "id": "F3Fln5lXx-aK"
      }
    },
    {
      "cell_type": "code",
      "source": [
        "notas = []\n",
        "\n",
        "for i in range(4):\n",
        "  notas.append(float(input('Digite a nota: ')))\n",
        "\n",
        "print(notas)\n",
        "\n",
        "print(statistics.mean(notas))"
      ],
      "metadata": {
        "colab": {
          "base_uri": "https://localhost:8080/"
        },
        "id": "3On1WV0LyBlO",
        "outputId": "b478ba50-f703-4b4a-bbe3-9d2154c25e09"
      },
      "execution_count": 37,
      "outputs": [
        {
          "output_type": "stream",
          "name": "stdout",
          "text": [
            "Digite a nota: 1\n",
            "Digite a nota: 1\n",
            "Digite a nota: 1\n",
            "Digite a nota: 1\n",
            "[1.0, 1.0, 1.0, 1.0]\n",
            "1.0\n"
          ]
        }
      ]
    },
    {
      "cell_type": "markdown",
      "source": [
        "4. Desenvolva um programa que leia um número inteiro qualquer e que informe se este número é par ou impar\n"
      ],
      "metadata": {
        "id": "73MzH9Fv2xbl"
      }
    },
    {
      "cell_type": "code",
      "source": [
        "num = int(input(\"Digite um número inteiro: \"))\n",
        "\n",
        "if num % 2 == 0:\n",
        "  print('PAR')\n",
        "else:\n",
        "  print('IMPAR')"
      ],
      "metadata": {
        "colab": {
          "base_uri": "https://localhost:8080/"
        },
        "id": "0ode5QaS21b7",
        "outputId": "ab45cf97-0e8a-4426-f39b-5f11495cae8d"
      },
      "execution_count": 39,
      "outputs": [
        {
          "output_type": "stream",
          "name": "stdout",
          "text": [
            "Digite um número inteiro: 2\n",
            "PAR\n"
          ]
        }
      ]
    },
    {
      "cell_type": "markdown",
      "source": [
        "##Strings\n",
        "1. Desenvolva um programa que altere em tempo de execução a palavra Java pela palavra Python na frase **Exercícios de Java**"
      ],
      "metadata": {
        "id": "EPGaor4-4bRe"
      }
    },
    {
      "cell_type": "code",
      "source": [
        "frase = 'Exercícios de Java'\n",
        "\n",
        "print(frase.replace('Java', 'Python'))"
      ],
      "metadata": {
        "colab": {
          "base_uri": "https://localhost:8080/"
        },
        "id": "DuR_3o5P4kwW",
        "outputId": "859a9765-e2bd-4c46-df08-94c1ec90128b"
      },
      "execution_count": 40,
      "outputs": [
        {
          "output_type": "stream",
          "name": "stdout",
          "text": [
            "Exercícios de Python\n"
          ]
        }
      ]
    }
  ]
}